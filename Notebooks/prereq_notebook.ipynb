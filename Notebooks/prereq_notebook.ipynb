{
 "cells": [
  {
   "cell_type": "code",
   "execution_count": 2,
   "id": "0e49f267",
   "metadata": {},
   "outputs": [
    {
     "name": "stdout",
     "output_type": "stream",
     "text": [
      "Hello World!\n"
     ]
    }
   ],
   "source": [
    "print(\"Hello World!\")"
   ]
  },
  {
   "cell_type": "code",
   "execution_count": null,
   "id": "d1aeae52",
   "metadata": {},
   "outputs": [],
   "source": []
  },
  {
   "cell_type": "markdown",
   "id": "92387001",
   "metadata": {},
   "source": [
    "I've started this pathway once before but had some things happen that caused me to leave before completing the program. I do feel like I've got a little bit of an understanding of things early on so I'm very excited to start again and COMPLETE the pathway this time around. I'm also extremely thankful to be accepted in to the program and I do not want to take that for granted.\n",
    "\n",
    "I think I'm pretty tech savvy, system savvy and even software savvy but definitely have a lot more to learn.\n",
    "\n",
    "I'm mostly here for career change and I'm dedicated to carving a new pathway in my career. I've been in higher education most of my adult working life...which is quite a long time. I have a financial background in the higher education sector but no degree. I have accomplished a lot in my career and had a lot of responsibility without the titles they deserve. \n",
    "\n",
    "I'm very interested in transitioning into a more tech focused field and hopefully carrying some of my knowledge with me from my current and past roles."
   ]
  },
  {
   "cell_type": "markdown",
   "id": "2ce51f54",
   "metadata": {},
   "source": []
  }
 ],
 "metadata": {
  "kernelspec": {
   "display_name": "Python 3",
   "language": "python",
   "name": "python3"
  },
  "language_info": {
   "codemirror_mode": {
    "name": "ipython",
    "version": 3
   },
   "file_extension": ".py",
   "mimetype": "text/x-python",
   "name": "python",
   "nbconvert_exporter": "python",
   "pygments_lexer": "ipython3",
   "version": "3.14.0"
  }
 },
 "nbformat": 4,
 "nbformat_minor": 5
}
